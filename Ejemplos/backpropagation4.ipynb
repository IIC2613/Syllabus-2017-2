{
 "cells": [
  {
   "cell_type": "code",
   "execution_count": 1,
   "metadata": {
    "collapsed": true
   },
   "outputs": [],
   "source": [
    "import numpy as np"
   ]
  },
  {
   "cell_type": "code",
   "execution_count": 2,
   "metadata": {
    "collapsed": true
   },
   "outputs": [],
   "source": [
    "class Unit:\n",
    "    def __init__(self, value, grad = None):\n",
    "        self.value = value\n",
    "        if grad == None:\n",
    "            self.grad = np.zeros(value.shape)\n",
    "        else:\n",
    "            self.grad = grad"
   ]
  },
  {
   "cell_type": "code",
   "execution_count": 3,
   "metadata": {
    "collapsed": true
   },
   "outputs": [],
   "source": [
    "class PerceptronGate:\n",
    "    def __init__(self):\n",
    "        self.x = None\n",
    "        self.y = None\n",
    "        self.z = None\n",
    "    def sigmoid(x):\n",
    "        return 1/(1+np.exp(-x))\n",
    "    def forward(self, x, y):\n",
    "        self.x = x\n",
    "        self.y = y\n",
    "        dotProd = self.x.value.dot(self.y.value)\n",
    "        s = PerceptronGate.sigmoid(dotProd)\n",
    "        self.z = Unit(s, 0.0)\n",
    "        return self.z\n",
    "    def backward(self):\n",
    "        s = self.z.value\n",
    "        self.x.grad += self.y.value * s * (1 - s) * self.z.grad\n",
    "        self.y.grad += self.x.value * s * (1 - s) * self.z.grad"
   ]
  },
  {
   "cell_type": "code",
   "execution_count": 4,
   "metadata": {
    "collapsed": true
   },
   "outputs": [],
   "source": [
    "class LossGate:\n",
    "    def __init__(self):\n",
    "        self.x = None\n",
    "        self.y = None\n",
    "        self.z = None\n",
    "    def forward(self, x, y):\n",
    "        self.x = x\n",
    "        self.y = y\n",
    "        self.z = Unit(0.5*(self.x.value-self.y.value)**2, 0.0)\n",
    "        return self.z\n",
    "    def backward(self):\n",
    "        self.x.grad += (self.x.value-self.y.value) * self.z.grad\n",
    "        self.y.grad += -1.0*(self.x.value-self.y.value) * self.z.grad"
   ]
  },
  {
   "cell_type": "code",
   "execution_count": 5,
   "metadata": {
    "collapsed": true
   },
   "outputs": [],
   "source": [
    "# value and gates definition\n",
    "w = Unit(np.array([2.0,-3.0,-3.0]))\n",
    "x = Unit(np.array([-1.0, -2.0, 1.0]))\n",
    "y = Unit(np.random.randint(0,2), 0)\n",
    "\n",
    "perceptron = PerceptronGate()\n",
    "loss = LossGate()"
   ]
  },
  {
   "cell_type": "code",
   "execution_count": 6,
   "metadata": {
    "collapsed": true
   },
   "outputs": [],
   "source": [
    "# forward pass\n",
    "def forwardNetwork():\n",
    "    p = perceptron.forward(w,x)\n",
    "    return loss.forward(p,y)"
   ]
  },
  {
   "cell_type": "code",
   "execution_count": 7,
   "metadata": {
    "collapsed": true
   },
   "outputs": [],
   "source": [
    "# backward pass\n",
    "def backwardNetwork(output):\n",
    "    output.grad = 1.0;\n",
    "    loss.backward()\n",
    "    perceptron.backward()"
   ]
  },
  {
   "cell_type": "code",
   "execution_count": 8,
   "metadata": {},
   "outputs": [
    {
     "name": "stdout",
     "output_type": "stream",
     "text": [
      "current loss: 0.265982716392\n",
      "current loss: 0.263493464433\n",
      "current loss: 0.259740377733\n",
      "current loss: 0.254702977766\n",
      "current loss: 0.248358481292\n",
      "current loss: 0.240686115586\n",
      "current loss: 0.231672981477\n",
      "current loss: 0.221321620476\n",
      "current loss: 0.209659266261\n",
      "current loss: 0.196748423078\n",
      "current loss: 0.182697883701\n",
      "current loss: 0.167672600466\n",
      "current loss: 0.151900083773\n",
      "current loss: 0.135670500825\n",
      "current loss: 0.119327791361\n",
      "current loss: 0.103250304024\n",
      "current loss: 0.0878217949645\n",
      "current loss: 0.0733966427056\n",
      "current loss: 0.0602657098251\n",
      "current loss: 0.0486301057491\n",
      "current loss: 0.0385884458933\n",
      "current loss: 0.0301395306144\n",
      "current loss: 0.0231982131192\n",
      "current loss: 0.0176192908414\n",
      "current loss: 0.0132234494411\n",
      "current loss: 0.0098203960182\n",
      "current loss: 0.00722639683771\n",
      "current loss: 0.0052754914237\n",
      "current loss: 0.0038250923107\n",
      "current loss: 0.00275736613579\n",
      "current loss: 0.00197789101414\n",
      "current loss: 0.00141285177121\n",
      "current loss: 0.00100568365267\n",
      "current loss: 0.000713738625981\n"
     ]
    }
   ],
   "source": [
    "# gradient descent\n",
    "step_size = 0.01;\n",
    "s = forwardNetwork()\n",
    "while s.value > 1e-3:\n",
    "    backwardNetwork(s)\n",
    "    w.value -= step_size * w.grad \n",
    "    #x.value -= step_size * x.grad\n",
    "    s = forwardNetwork()\n",
    "    print('current loss: ' + str(s.value))"
   ]
  },
  {
   "cell_type": "code",
   "execution_count": null,
   "metadata": {
    "collapsed": true
   },
   "outputs": [],
   "source": []
  }
 ],
 "metadata": {
  "kernelspec": {
   "display_name": "Python 3",
   "language": "python",
   "name": "python3"
  },
  "language_info": {
   "codemirror_mode": {
    "name": "ipython",
    "version": 3
   },
   "file_extension": ".py",
   "mimetype": "text/x-python",
   "name": "python",
   "nbconvert_exporter": "python",
   "pygments_lexer": "ipython3",
   "version": "3.6.1"
  }
 },
 "nbformat": 4,
 "nbformat_minor": 2
}
