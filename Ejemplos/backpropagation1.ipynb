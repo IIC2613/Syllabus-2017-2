{
 "cells": [
  {
   "cell_type": "code",
   "execution_count": 1,
   "metadata": {
    "collapsed": true
   },
   "outputs": [],
   "source": [
    "import numpy as np"
   ]
  },
  {
   "cell_type": "code",
   "execution_count": 2,
   "metadata": {
    "collapsed": true
   },
   "outputs": [],
   "source": [
    "class Unit:\n",
    "    def __init__(self, value, grad):\n",
    "        self.value = value\n",
    "        self.grad = grad"
   ]
  },
  {
   "cell_type": "code",
   "execution_count": 3,
   "metadata": {
    "collapsed": true
   },
   "outputs": [],
   "source": [
    "class AddGate:\n",
    "    def __init__(self):\n",
    "        self.x = None\n",
    "        self.y = None\n",
    "        self.z = None\n",
    "    def forward(self, x, y):\n",
    "        self.x = x\n",
    "        self.y = y\n",
    "        self.z = Unit(self.x.value + self.y.value, 0.0)\n",
    "        return self.z\n",
    "    def backward(self):\n",
    "        self.x.grad += 1 * self.z.grad\n",
    "        self.y.grad += 1 * self.z.grad"
   ]
  },
  {
   "cell_type": "code",
   "execution_count": 4,
   "metadata": {
    "collapsed": true
   },
   "outputs": [],
   "source": [
    "class MulGate:\n",
    "    def __init__(self):\n",
    "        self.x = None\n",
    "        self.y = None\n",
    "        self.z = None\n",
    "    def forward(self, x, y):\n",
    "        self.x = x\n",
    "        self.y = y\n",
    "        self.z = Unit(self.x.value * self.y.value, 0.0)\n",
    "        return self.z\n",
    "    def backward(self):\n",
    "        self.x.grad += self.y.value * self.z.grad\n",
    "        self.y.grad += self.x.value * self.z.grad"
   ]
  },
  {
   "cell_type": "code",
   "execution_count": 5,
   "metadata": {
    "collapsed": true
   },
   "outputs": [],
   "source": [
    "class SigmoidGate:\n",
    "    def __init__(self):\n",
    "        self.x = None\n",
    "        self.z = None\n",
    "    def sigmoid(x):\n",
    "        return 1/(1+np.exp(-x))\n",
    "    def forward(self, x):\n",
    "        self.x = x\n",
    "        self.z = Unit(SigmoidGate.sigmoid(self.x.value), 0.0)\n",
    "        return self.z\n",
    "    def backward(self):\n",
    "        s = self.z.value\n",
    "        self.x.grad += s * (1-s) * self.z.grad"
   ]
  },
  {
   "cell_type": "code",
   "execution_count": 7,
   "metadata": {
    "collapsed": true
   },
   "outputs": [],
   "source": [
    "# value and gates definition\n",
    "w0 = Unit(2.0, 0.0)\n",
    "w1 = Unit(-3.0, 0.0)\n",
    "w2 = Unit(-3.0, 0.0)\n",
    "x = Unit(-1.0, 0.0)\n",
    "y = Unit(-2.0, 0.0)\n",
    "\n",
    "mulg0 = MulGate()\n",
    "mulg1 = MulGate()\n",
    "addg0 = AddGate()\n",
    "addg1 = AddGate()\n",
    "sg0 = SigmoidGate()"
   ]
  },
  {
   "cell_type": "code",
   "execution_count": 8,
   "metadata": {},
   "outputs": [
    {
     "name": "stdout",
     "output_type": "stream",
     "text": [
      "network output: 0.73105857863\n"
     ]
    }
   ],
   "source": [
    "# forward pass\n",
    "def forwardNetwork():\n",
    "    w0x = mulg0.forward(w0, x)\n",
    "    w1y = mulg1.forward(w1, y)\n",
    "    w0xpw1y = addg0.forward(w0x, w1y)\n",
    "    w0xpw1ypw2 = addg1.forward(w0xpw1y, w2)\n",
    "    return  sg0.forward(w0xpw1ypw2)\n",
    "\n",
    "s = forwardNetwork()\n",
    "print('network output: ' + str(s.value))"
   ]
  },
  {
   "cell_type": "code",
   "execution_count": 9,
   "metadata": {
    "collapsed": true
   },
   "outputs": [],
   "source": [
    "# backward pass\n",
    "def backwardNetwork():\n",
    "    s.grad = 1.0;\n",
    "    sg0.backward()\n",
    "    addg1.backward()\n",
    "    addg0.backward()\n",
    "    mulg1.backward()\n",
    "    mulg0.backward()\n",
    "\n",
    "backwardNetwork()"
   ]
  },
  {
   "cell_type": "code",
   "execution_count": 14,
   "metadata": {},
   "outputs": [
    {
     "name": "stdout",
     "output_type": "stream",
     "text": [
      "network output after one step of gradient descent: 0.766234162642\n"
     ]
    }
   ],
   "source": [
    "# one step of gradient descent\n",
    "step_size = 0.01;\n",
    "w0.value += step_size * w0.grad \n",
    "w1.value += step_size * w1.grad\n",
    "w2.value += step_size * w2.grad\n",
    "x.value += step_size * x.grad\n",
    "y.value += step_size * y.grad\n",
    "\n",
    "s = forwardNetwork()\n",
    "print('network output after one step of gradient descent: ' + str(s.value))"
   ]
  },
  {
   "cell_type": "code",
   "execution_count": null,
   "metadata": {
    "collapsed": true
   },
   "outputs": [],
   "source": []
  },
  {
   "cell_type": "code",
   "execution_count": null,
   "metadata": {
    "collapsed": true
   },
   "outputs": [],
   "source": []
  }
 ],
 "metadata": {
  "kernelspec": {
   "display_name": "Python 3",
   "language": "python",
   "name": "python3"
  },
  "language_info": {
   "codemirror_mode": {
    "name": "ipython",
    "version": 3
   },
   "file_extension": ".py",
   "mimetype": "text/x-python",
   "name": "python",
   "nbconvert_exporter": "python",
   "pygments_lexer": "ipython3",
   "version": "3.6.1"
  }
 },
 "nbformat": 4,
 "nbformat_minor": 2
}
