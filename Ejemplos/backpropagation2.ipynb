{
 "cells": [
  {
   "cell_type": "code",
   "execution_count": 1,
   "metadata": {
    "collapsed": true
   },
   "outputs": [],
   "source": [
    "import numpy as np"
   ]
  },
  {
   "cell_type": "code",
   "execution_count": 2,
   "metadata": {
    "collapsed": true
   },
   "outputs": [],
   "source": [
    "class Unit:\n",
    "    def __init__(self, value, grad = None):\n",
    "        self.value = value\n",
    "        if grad == None:\n",
    "            self.grad = np.zeros(value.shape)\n",
    "        else:\n",
    "            self.grad = grad"
   ]
  },
  {
   "cell_type": "code",
   "execution_count": 3,
   "metadata": {
    "collapsed": true
   },
   "outputs": [],
   "source": [
    "class DotProdGate:\n",
    "    def __init__(self):\n",
    "        self.x = None\n",
    "        self.y = None\n",
    "        self.z = None\n",
    "    def forward(self, x, y):\n",
    "        self.x = x\n",
    "        self.y = y\n",
    "        self.z = Unit(self.x.value.dot(self.y.value), 0.0)\n",
    "        return self.z\n",
    "    def backward(self):\n",
    "        self.x.grad += self.y.value * self.z.grad\n",
    "        self.y.grad += self.x.value * self.z.grad"
   ]
  },
  {
   "cell_type": "code",
   "execution_count": 4,
   "metadata": {
    "collapsed": true
   },
   "outputs": [],
   "source": [
    "class SigmoidGate:\n",
    "    def __init__(self):\n",
    "        self.x = None\n",
    "        self.z = None\n",
    "    def sigmoid(x):\n",
    "        return 1/(1+np.exp(-x))\n",
    "    def forward(self, x):\n",
    "        self.x = x\n",
    "        self.z = Unit(SigmoidGate.sigmoid(self.x.value), 0.0)\n",
    "        return self.z\n",
    "    def backward(self):\n",
    "        s = self.z.value\n",
    "        self.x.grad += s * (1-s) * self.z.grad"
   ]
  },
  {
   "cell_type": "code",
   "execution_count": 5,
   "metadata": {
    "collapsed": true
   },
   "outputs": [],
   "source": [
    "# value and gates definition\n",
    "w = Unit(np.array([2.0,-3.0,-3.0]))\n",
    "x = Unit(np.array([-1.0, -2.0, 1.0]))\n",
    "\n",
    "dp = DotProdGate()\n",
    "sg = SigmoidGate()"
   ]
  },
  {
   "cell_type": "code",
   "execution_count": 6,
   "metadata": {},
   "outputs": [
    {
     "name": "stdout",
     "output_type": "stream",
     "text": [
      "network output: 0.73105857863\n"
     ]
    }
   ],
   "source": [
    "# forward pass\n",
    "def forwardNetwork():\n",
    "    wx = dp.forward(w, x)\n",
    "    output = sg.forward(wx) \n",
    "    return output\n",
    "\n",
    "s = forwardNetwork()\n",
    "print('network output: ' + str(s.value))"
   ]
  },
  {
   "cell_type": "code",
   "execution_count": 7,
   "metadata": {
    "collapsed": true
   },
   "outputs": [],
   "source": [
    "# backward pass\n",
    "def backwardNetwork():\n",
    "    s.grad = 1.0;\n",
    "    sg.backward()\n",
    "    dp.backward()\n",
    "\n",
    "backwardNetwork()"
   ]
  },
  {
   "cell_type": "code",
   "execution_count": 10,
   "metadata": {},
   "outputs": [
    {
     "name": "stdout",
     "output_type": "stream",
     "text": [
      "network output after one step of gradient descent: 0.762274270623\n"
     ]
    }
   ],
   "source": [
    "# one step of gradient descent\n",
    "step_size = 0.01;\n",
    "w.value += step_size * w.grad \n",
    "x.value += step_size * x.grad\n",
    "\n",
    "s = forwardNetwork()\n",
    "print('network output after one step of gradient descent: ' + str(s.value))"
   ]
  },
  {
   "cell_type": "code",
   "execution_count": null,
   "metadata": {
    "collapsed": true
   },
   "outputs": [],
   "source": []
  },
  {
   "cell_type": "code",
   "execution_count": null,
   "metadata": {
    "collapsed": true
   },
   "outputs": [],
   "source": []
  }
 ],
 "metadata": {
  "kernelspec": {
   "display_name": "Python 3",
   "language": "python",
   "name": "python3"
  },
  "language_info": {
   "codemirror_mode": {
    "name": "ipython",
    "version": 3
   },
   "file_extension": ".py",
   "mimetype": "text/x-python",
   "name": "python",
   "nbconvert_exporter": "python",
   "pygments_lexer": "ipython3",
   "version": "3.6.1"
  }
 },
 "nbformat": 4,
 "nbformat_minor": 2
}
